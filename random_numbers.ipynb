{
 "cells": [
  {
   "cell_type": "code",
   "execution_count": 1,
   "id": "47f2ae30",
   "metadata": {},
   "outputs": [],
   "source": [
    "import random"
   ]
  },
  {
   "cell_type": "code",
   "execution_count": 2,
   "id": "57342eca",
   "metadata": {},
   "outputs": [
    {
     "data": {
      "text/plain": [
       "0.7823049321283939"
      ]
     },
     "execution_count": 2,
     "metadata": {},
     "output_type": "execute_result"
    }
   ],
   "source": [
    "random.random()"
   ]
  },
  {
   "cell_type": "code",
   "execution_count": 4,
   "id": "5d1ce96a",
   "metadata": {},
   "outputs": [
    {
     "data": {
      "text/plain": [
       "3"
      ]
     },
     "execution_count": 4,
     "metadata": {},
     "output_type": "execute_result"
    }
   ],
   "source": [
    "random.randint(-10,10)"
   ]
  },
  {
   "cell_type": "code",
   "execution_count": 7,
   "id": "4c5df9f7",
   "metadata": {},
   "outputs": [
    {
     "data": {
      "text/plain": [
       "-1"
      ]
     },
     "execution_count": 7,
     "metadata": {},
     "output_type": "execute_result"
    }
   ],
   "source": [
    "random.randrange(-9,9,2)"
   ]
  },
  {
   "cell_type": "code",
   "execution_count": 11,
   "id": "19c8cdbf",
   "metadata": {},
   "outputs": [
    {
     "data": {
      "text/plain": [
       "-7.521034815522176"
      ]
     },
     "execution_count": 11,
     "metadata": {},
     "output_type": "execute_result"
    }
   ],
   "source": [
    "random.uniform(-10,10)"
   ]
  },
  {
   "cell_type": "code",
   "execution_count": 16,
   "id": "932ab21b",
   "metadata": {},
   "outputs": [
    {
     "data": {
      "text/plain": [
       "-85.9042435180703"
      ]
     },
     "execution_count": 16,
     "metadata": {},
     "output_type": "execute_result"
    }
   ],
   "source": [
    "#Random latitude generation testing, using \"while\" loop\n",
    "x = 1\n",
    "latitudes = []\n",
    "random_lat = random.randint(-90,89) + random.random()\n",
    "latitudes.append(random_lat)\n",
    "x +=1\n",
    "random_lat"
   ]
  },
  {
   "cell_type": "code",
   "execution_count": 17,
   "id": "8fdeddff",
   "metadata": {},
   "outputs": [],
   "source": [
    "# Import the NumPy Module.\n",
    "import numpy as np"
   ]
  },
  {
   "cell_type": "code",
   "execution_count": 18,
   "id": "e07cb15e",
   "metadata": {},
   "outputs": [
    {
     "data": {
      "text/plain": [
       "-13.526708652842345"
      ]
     },
     "execution_count": 18,
     "metadata": {},
     "output_type": "execute_result"
    }
   ],
   "source": [
    "np.random.uniform(-90.000, 90.000)"
   ]
  },
  {
   "cell_type": "code",
   "execution_count": 19,
   "id": "d3ad3506",
   "metadata": {},
   "outputs": [
    {
     "data": {
      "text/plain": [
       "array([  3.4896522 ,  57.80153773, -85.24331679,  -2.62131448,\n",
       "        25.91811477,  76.23854359,  15.45145784,  72.88819806,\n",
       "        34.59787584, -76.47096705,  26.01649977,   5.27479198,\n",
       "        75.0132909 ,  53.83551858, -75.81809213, -50.22640198,\n",
       "         4.13484628,  81.07587669,  -6.01746251, -78.5981994 ,\n",
       "       -51.31414034,  11.91680834, -13.10521479,  46.12947305,\n",
       "         6.41460841,  51.9348769 ,  87.0083793 ,  57.21584019,\n",
       "        48.40129076,  41.49847842,  50.01499363,   5.98623189,\n",
       "       -20.30163727,  33.64794723, -84.37277896, -66.91897906,\n",
       "       -67.33213124,  19.87497244,  81.62037374, -66.16334787,\n",
       "        -6.70479411, -49.82418718,  39.17722621,  24.23787186,\n",
       "       -81.5331627 ,  -8.98073762, -44.35597352,  35.51203082,\n",
       "        18.32147809,  41.37337813])"
      ]
     },
     "execution_count": 19,
     "metadata": {},
     "output_type": "execute_result"
    }
   ],
   "source": [
    "np.random.uniform(-90.000, 90.000, size=50)"
   ]
  },
  {
   "cell_type": "code",
   "execution_count": 20,
   "id": "8505e02e",
   "metadata": {},
   "outputs": [],
   "source": [
    "# Import timeit.\n",
    "import timeit"
   ]
  },
  {
   "cell_type": "code",
   "execution_count": 21,
   "id": "512cc03b",
   "metadata": {},
   "outputs": [
    {
     "name": "stdout",
     "output_type": "stream",
     "text": [
      "9.83 µs ± 1.51 µs per loop (mean ± std. dev. of 7 runs, 100000 loops each)\n"
     ]
    }
   ],
   "source": [
    "# Test code speed using numpy for latitude\n",
    "%timeit np.random.uniform(-90.000, 90.000, size=1500)"
   ]
  },
  {
   "cell_type": "code",
   "execution_count": 22,
   "id": "35ca664e",
   "metadata": {},
   "outputs": [
    {
     "name": "stdout",
     "output_type": "stream",
     "text": [
      "777 µs ± 13.4 µs per loop (mean ± std. dev. of 7 runs, 1000 loops each)\n"
     ]
    }
   ],
   "source": [
    "# Test code speed using \"while\" loop for latitude\n",
    "def latitudes(size):\n",
    "    latitudes = []\n",
    "    x = 0\n",
    "    while x < (size):\n",
    "        random_lat = random.randint(-90, 90) + random.random()\n",
    "        latitudes.append(random_lat)\n",
    "        x += 1\n",
    "    return latitudes\n",
    "# Call the function with 1500.\n",
    "%timeit latitudes(1500)"
   ]
  },
  {
   "cell_type": "code",
   "execution_count": 23,
   "id": "530d1107",
   "metadata": {},
   "outputs": [
    {
     "name": "stdout",
     "output_type": "stream",
     "text": [
      "12.1 µs ± 5.15 µs per loop (mean ± std. dev. of 7 runs, 100000 loops each)\n"
     ]
    }
   ],
   "source": [
    "# Test code using numpy for longitude\n",
    "%timeit np.random.uniform(-180.000, 180.000, size=1500)"
   ]
  }
 ],
 "metadata": {
  "kernelspec": {
   "display_name": "Python 3 (ipykernel)",
   "language": "python",
   "name": "python3"
  },
  "language_info": {
   "codemirror_mode": {
    "name": "ipython",
    "version": 3
   },
   "file_extension": ".py",
   "mimetype": "text/x-python",
   "name": "python",
   "nbconvert_exporter": "python",
   "pygments_lexer": "ipython3",
   "version": "3.9.13"
  }
 },
 "nbformat": 4,
 "nbformat_minor": 5
}
